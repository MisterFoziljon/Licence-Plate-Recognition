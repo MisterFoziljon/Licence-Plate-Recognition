{
 "cells": [
  {
   "cell_type": "code",
   "execution_count": null,
   "id": "ce68bf40-bd1a-4b62-911b-580beb550b7e",
   "metadata": {},
   "outputs": [],
   "source": [
    "import torch\n",
    "import glob as glob\n",
    "import matplotlib.pyplot as plt\n",
    "from PIL import Image\n",
    "from tqdm.notebook import tqdm\n",
    "from dataclasses import dataclass\n",
    "from transformers import (VisionEncoderDecoderModel,TrOCRProcessor)\n",
    "\n",
    "plt.rcParams['figure.figsize'] = (12, 9)"
   ]
  },
  {
   "cell_type": "code",
   "execution_count": null,
   "id": "06c43be9-9c7f-4b94-8799-a1af0636e20b",
   "metadata": {},
   "outputs": [],
   "source": [
    "device = torch.device('cuda' if torch.cuda.is_available() else 'cpu')\n",
    "device"
   ]
  },
  {
   "cell_type": "code",
   "execution_count": null,
   "id": "875aceb8-3762-410c-8983-8a8ba3997b5b",
   "metadata": {},
   "outputs": [],
   "source": [
    "@dataclass(frozen=True)\n",
    "class TrainingConfig:\n",
    "    BATCH_SIZE:    int = 48\n",
    "    EPOCHS:        int = 35\n",
    "    LEARNING_RATE: float = 0.00005\n",
    "\n",
    "@dataclass(frozen=True)\n",
    "class DatasetConfig:\n",
    "    DATA_ROOT:     str = 'licence_plate'\n",
    "\n",
    "@dataclass(frozen=True)\n",
    "class ModelConfig:\n",
    "    MODEL_NAME: str = 'microsoft/trocr-small-printed'"
   ]
  },
  {
   "cell_type": "code",
   "execution_count": null,
   "id": "d9a02c36-0c4e-4841-866c-cdb49e16bd09",
   "metadata": {},
   "outputs": [],
   "source": [
    "model_full_path = '/home/foziljon/npr/seq2seq_model_printed/checkpoint-xxxx'\n",
    "processor = TrOCRProcessor.from_pretrained(ModelConfig.MODEL_NAME)\n",
    "trained_model = VisionEncoderDecoderModel.from_pretrained(model_full_path, local_files_only=True).to(device)"
   ]
  },
  {
   "cell_type": "code",
   "execution_count": null,
   "id": "12c9b6de-06f8-45fc-a700-47ca2bddb790",
   "metadata": {},
   "outputs": [],
   "source": [
    "def ocr(image, processor, model):\n",
    "    pixel_values = processor(image, return_tensors='pt').pixel_values.to(device)\n",
    "    generated_ids = model.generate(pixel_values)\n",
    "    generated_text = processor.batch_decode(generated_ids, skip_special_tokens=True)[0]\n",
    "    return generated_text"
   ]
  },
  {
   "cell_type": "code",
   "execution_count": null,
   "id": "9eae8229-d20d-4180-ad79-e4068fe9a607",
   "metadata": {},
   "outputs": [],
   "source": [
    "def eval_new_data(num_samples=50):\n",
    "    image_paths = glob.glob(\"/home/foziljon/npr/licence_plate/lp_test/*\")\n",
    "    for i, image_path in tqdm(enumerate(image_paths), total=len(image_paths)):\n",
    "        if i == num_samples:\n",
    "            break\n",
    "        image = Image.open(image_path).convert('RGB')\n",
    "        text = ocr(image, processor, trained_model)\n",
    "        plt.figure(figsize=(7, 4))\n",
    "        plt.imshow(image)\n",
    "        plt.title(text)\n",
    "        plt.axis('off')\n",
    "        plt.show()"
   ]
  },
  {
   "cell_type": "code",
   "execution_count": null,
   "id": "1fd55096-d83f-400b-b4f8-3c339a3a79fb",
   "metadata": {},
   "outputs": [],
   "source": [
    "eval_new_data(num_samples=100)"
   ]
  }
 ],
 "metadata": {
  "kernelspec": {
   "display_name": "Python 3 (ipykernel)",
   "language": "python",
   "name": "python3"
  },
  "language_info": {
   "codemirror_mode": {
    "name": "ipython",
    "version": 3
   },
   "file_extension": ".py",
   "mimetype": "text/x-python",
   "name": "python",
   "nbconvert_exporter": "python",
   "pygments_lexer": "ipython3",
   "version": "3.10.13"
  }
 },
 "nbformat": 4,
 "nbformat_minor": 5
}
